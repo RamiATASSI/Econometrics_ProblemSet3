{
 "cells": [
  {
   "metadata": {},
   "cell_type": "markdown",
   "source": "# Problem Set 3",
   "id": "64cf23ec0483894e"
  },
  {
   "metadata": {},
   "cell_type": "markdown",
   "source": "## Imports",
   "id": "f18523b13bd8ebef"
  },
  {
   "metadata": {
    "ExecuteTime": {
     "end_time": "2024-12-13T14:27:51.712561Z",
     "start_time": "2024-12-13T14:27:50.662311Z"
    }
   },
   "cell_type": "code",
   "source": [
    "import pandas as pd\n",
    "from statsmodels.stats.diagnostic import breaks_hansen\n",
    "import statsmodels.api as sm\n",
    "#disable warnings\n",
    "import warnings\n",
    "\n",
    "warnings.filterwarnings('ignore')"
   ],
   "id": "28e418ed50a4c22b",
   "outputs": [],
   "execution_count": 1
  },
  {
   "metadata": {},
   "cell_type": "markdown",
   "source": "## Exercise 1",
   "id": "7ab32db4236eae07"
  },
  {
   "metadata": {},
   "cell_type": "markdown",
   "source": [
    "In this exercise, you will work with the **Fertility** dataset which\n",
    "contains data for married women from the 1980 U.S. Census. The dataset\n",
    "contains information on married women aged 21–35 with two or more\n",
    "children. Both Excel and Stata versions of the dataset are available on\n",
    "Moodle (use the one you are more comfortable with)\n"
   ],
   "id": "f209d0e8444b9401"
  },
  {
   "metadata": {},
   "cell_type": "markdown",
   "source": "**Load the data here**\n",
   "id": "d9532393ed33ca7c"
  },
  {
   "metadata": {
    "ExecuteTime": {
     "end_time": "2024-12-13T14:27:51.760013Z",
     "start_time": "2024-12-13T14:27:51.724945Z"
    }
   },
   "cell_type": "code",
   "source": [
    "fertility_df = pd.read_stata('fertility.dta')\n",
    "fertility_df.head()"
   ],
   "id": "67d2e50deebe1813",
   "outputs": [
    {
     "data": {
      "text/plain": [
       "   morekids  boy1st  boy2nd  samesex  agem1  black  hispan  othrace  weeksm1\n",
       "0         0       1       0        0     27      0       0        0        0\n",
       "1         0       0       1        0     30      0       0        0       30\n",
       "2         0       1       0        0     27      0       0        0        0\n",
       "3         0       1       0        0     35      1       0        0        0\n",
       "4         0       0       0        1     30      0       0        0       22"
      ],
      "text/html": [
       "<div>\n",
       "<style scoped>\n",
       "    .dataframe tbody tr th:only-of-type {\n",
       "        vertical-align: middle;\n",
       "    }\n",
       "\n",
       "    .dataframe tbody tr th {\n",
       "        vertical-align: top;\n",
       "    }\n",
       "\n",
       "    .dataframe thead th {\n",
       "        text-align: right;\n",
       "    }\n",
       "</style>\n",
       "<table border=\"1\" class=\"dataframe\">\n",
       "  <thead>\n",
       "    <tr style=\"text-align: right;\">\n",
       "      <th></th>\n",
       "      <th>morekids</th>\n",
       "      <th>boy1st</th>\n",
       "      <th>boy2nd</th>\n",
       "      <th>samesex</th>\n",
       "      <th>agem1</th>\n",
       "      <th>black</th>\n",
       "      <th>hispan</th>\n",
       "      <th>othrace</th>\n",
       "      <th>weeksm1</th>\n",
       "    </tr>\n",
       "  </thead>\n",
       "  <tbody>\n",
       "    <tr>\n",
       "      <th>0</th>\n",
       "      <td>0</td>\n",
       "      <td>1</td>\n",
       "      <td>0</td>\n",
       "      <td>0</td>\n",
       "      <td>27</td>\n",
       "      <td>0</td>\n",
       "      <td>0</td>\n",
       "      <td>0</td>\n",
       "      <td>0</td>\n",
       "    </tr>\n",
       "    <tr>\n",
       "      <th>1</th>\n",
       "      <td>0</td>\n",
       "      <td>0</td>\n",
       "      <td>1</td>\n",
       "      <td>0</td>\n",
       "      <td>30</td>\n",
       "      <td>0</td>\n",
       "      <td>0</td>\n",
       "      <td>0</td>\n",
       "      <td>30</td>\n",
       "    </tr>\n",
       "    <tr>\n",
       "      <th>2</th>\n",
       "      <td>0</td>\n",
       "      <td>1</td>\n",
       "      <td>0</td>\n",
       "      <td>0</td>\n",
       "      <td>27</td>\n",
       "      <td>0</td>\n",
       "      <td>0</td>\n",
       "      <td>0</td>\n",
       "      <td>0</td>\n",
       "    </tr>\n",
       "    <tr>\n",
       "      <th>3</th>\n",
       "      <td>0</td>\n",
       "      <td>1</td>\n",
       "      <td>0</td>\n",
       "      <td>0</td>\n",
       "      <td>35</td>\n",
       "      <td>1</td>\n",
       "      <td>0</td>\n",
       "      <td>0</td>\n",
       "      <td>0</td>\n",
       "    </tr>\n",
       "    <tr>\n",
       "      <th>4</th>\n",
       "      <td>0</td>\n",
       "      <td>0</td>\n",
       "      <td>0</td>\n",
       "      <td>1</td>\n",
       "      <td>30</td>\n",
       "      <td>0</td>\n",
       "      <td>0</td>\n",
       "      <td>0</td>\n",
       "      <td>22</td>\n",
       "    </tr>\n",
       "  </tbody>\n",
       "</table>\n",
       "</div>"
      ]
     },
     "execution_count": 2,
     "metadata": {},
     "output_type": "execute_result"
    }
   ],
   "execution_count": 2
  },
  {
   "metadata": {},
   "cell_type": "markdown",
   "source": [
    "\n",
    "##### a) Regress weeksm1 only on the indicator variable morekids, using OLS. On average, do women with more than two children work less than women with two children? If so, how much?\n"
   ],
   "id": "389d474f64535759"
  },
  {
   "metadata": {
    "ExecuteTime": {
     "end_time": "2024-12-13T14:27:52.352956Z",
     "start_time": "2024-12-13T14:27:52.265468Z"
    }
   },
   "cell_type": "code",
   "source": [
    "X = fertility_df['morekids']\n",
    "y = fertility_df['weeksm1']\n",
    "X = sm.add_constant(X)\n",
    "model = sm.OLS(y, X).fit()\n",
    "print(model.summary())"
   ],
   "id": "c2b27c4e301be622",
   "outputs": [
    {
     "name": "stdout",
     "output_type": "stream",
     "text": [
      "                            OLS Regression Results                            \n",
      "==============================================================================\n",
      "Dep. Variable:                weeksm1   R-squared:                       0.014\n",
      "Model:                            OLS   Adj. R-squared:                  0.014\n",
      "Method:                 Least Squares   F-statistic:                     3696.\n",
      "Date:                Fri, 13 Dec 2024   Prob (F-statistic):               0.00\n",
      "Time:                        15:27:52   Log-Likelihood:            -1.1451e+06\n",
      "No. Observations:              254654   AIC:                         2.290e+06\n",
      "Df Residuals:                  254652   BIC:                         2.290e+06\n",
      "Df Model:                           1                                         \n",
      "Covariance Type:            nonrobust                                         \n",
      "==============================================================================\n",
      "                 coef    std err          t      P>|t|      [0.025      0.975]\n",
      "------------------------------------------------------------------------------\n",
      "const         21.0684      0.055    385.424      0.000      20.961      21.176\n",
      "morekids      -5.3870      0.089    -60.795      0.000      -5.561      -5.213\n",
      "==============================================================================\n",
      "Omnibus:                  1921554.195   Durbin-Watson:                   1.927\n",
      "Prob(Omnibus):                  0.000   Jarque-Bera (JB):            33549.325\n",
      "Skew:                           0.525   Prob(JB):                         0.00\n",
      "Kurtosis:                       1.564   Cond. No.                         2.43\n",
      "==============================================================================\n",
      "\n",
      "Notes:\n",
      "[1] Standard Errors assume that the covariance matrix of the errors is correctly specified.\n"
     ]
    }
   ],
   "execution_count": 3
  },
  {
   "metadata": {},
   "cell_type": "markdown",
   "source": "The coefficient of morekids is -5.387. This means that on average, women with more than two children work 5.387 weeks less than mother with two children. The coefficient is statistically with p-value = 0.",
   "id": "ce62911515c60884"
  },
  {
   "metadata": {},
   "cell_type": "markdown",
   "source": "##### b) Explain potential endogeneity issue in the OLS regression estimated in (a).\n",
   "id": "bc818b9fc1d3d451"
  },
  {
   "metadata": {},
   "cell_type": "markdown",
   "source": "The morekids variable is potentially endogenous if it is correlated with the error term. This could happen for different reasons such as ommited variable bias, where another variable acts as confounder by influencing both morekids and weeksm1 (i.e. wealth), or simultaneity bias, as weeksm1 could also affect morekids.",
   "id": "441fe82bc058f230"
  },
  {
   "metadata": {},
   "cell_type": "markdown",
   "source": "##### c) The data set contains the variable samesex, which is equal to 1 if the first two children are of the same sex (boy–boy or girl–girl) and equal to 0 otherwise. Are couples whose first two children are of the same sex more likely to have a third child? Justify your answer based on appropriate regression model.\n",
   "id": "2fa32152e9cc944e"
  },
  {
   "metadata": {
    "ExecuteTime": {
     "end_time": "2024-12-13T14:27:52.502740Z",
     "start_time": "2024-12-13T14:27:52.421354Z"
    }
   },
   "cell_type": "code",
   "source": [
    "X = fertility_df['samesex']\n",
    "y = fertility_df['morekids']\n",
    "X = sm.add_constant(X)\n",
    "model = sm.OLS(y, X).fit()\n",
    "print(model.summary())"
   ],
   "id": "122d4142602e01dc",
   "outputs": [
    {
     "name": "stdout",
     "output_type": "stream",
     "text": [
      "                            OLS Regression Results                            \n",
      "==============================================================================\n",
      "Dep. Variable:               morekids   R-squared:                       0.005\n",
      "Model:                            OLS   Adj. R-squared:                  0.005\n",
      "Method:                 Least Squares   F-statistic:                     1237.\n",
      "Date:                Fri, 13 Dec 2024   Prob (F-statistic):          2.23e-270\n",
      "Time:                        15:27:52   Log-Likelihood:            -1.7673e+05\n",
      "No. Observations:              254654   AIC:                         3.535e+05\n",
      "Df Residuals:                  254652   BIC:                         3.535e+05\n",
      "Df Model:                           1                                         \n",
      "Covariance Type:            nonrobust                                         \n",
      "==============================================================================\n",
      "                 coef    std err          t      P>|t|      [0.025      0.975]\n",
      "------------------------------------------------------------------------------\n",
      "const          0.3464      0.001    253.791      0.000       0.344       0.349\n",
      "samesex        0.0675      0.002     35.174      0.000       0.064       0.071\n",
      "==============================================================================\n",
      "Omnibus:                  1057523.438   Durbin-Watson:                   1.949\n",
      "Prob(Omnibus):                  0.000   Jarque-Bera (JB):            42280.951\n",
      "Skew:                           0.488   Prob(JB):                         0.00\n",
      "Kurtosis:                       1.259   Cond. No.                         2.63\n",
      "==============================================================================\n",
      "\n",
      "Notes:\n",
      "[1] Standard Errors assume that the covariance matrix of the errors is correctly specified.\n"
     ]
    }
   ],
   "execution_count": 4
  },
  {
   "metadata": {},
   "cell_type": "markdown",
   "source": "The coefficient of samesex is 0.0675. This means that couples whose first two children are of the same sex are 6.75% more likely to have a third child. The coefficient is statistically significant with p-value = 0.",
   "id": "b46a3ea11cf93e8f"
  },
  {
   "metadata": {},
   "cell_type": "markdown",
   "source": "##### d) Is samesex a weak instrument? If so, why? Justify your answer with appropriate statistics.",
   "id": "f14ea3448870d3e4"
  },
  {
   "metadata": {},
   "cell_type": "markdown",
   "source": "We can check the strength of the instrument by calculating the F-statistic of the first stage regression. If the F-statistic is less than 10, then the instrument is weak. We can also check the first stage regression summary to see if the coefficient of the instrument is statistically significant.",
   "id": "6d030143b875cec6"
  },
  {
   "metadata": {
    "ExecuteTime": {
     "end_time": "2024-12-13T14:27:52.596795Z",
     "start_time": "2024-12-13T14:27:52.591025Z"
    }
   },
   "cell_type": "code",
   "source": "print(f\"F-statistic: {model.fvalue}\")",
   "id": "c096fbe9fcc267aa",
   "outputs": [
    {
     "name": "stdout",
     "output_type": "stream",
     "text": [
      "F-statistic: 1237.219435998433\n"
     ]
    }
   ],
   "execution_count": 5
  },
  {
   "metadata": {},
   "cell_type": "markdown",
   "source": "The F-statistic is 1237. This is much higher than 10, so the instrument is not weak. The coefficient of the instrument is also statistically significant with p-value = 0.",
   "id": "58883cac96657e0c"
  },
  {
   "metadata": {},
   "cell_type": "markdown",
   "source": [
    "\n",
    "\n",
    "\n",
    "##### e) How can the exclusion restriction condition be violated when using samesex as an instrument? Discuss it.\n"
   ],
   "id": "8030eaf69b72a1fc"
  },
  {
   "metadata": {},
   "cell_type": "markdown",
   "source": "The exclusion restriction condition requires that the instrument (samesex) affects the outcome variable (weeksm1) only through its effect on the endogenous variable (morekids) and not through any other channel. This condition could be violated if having two children of the same sex directly influences the mother worked weeks or if it is correlated with unobserved factors that also affect weeksm1, which would act as confounders. Such violations would lead to biased IV estimates. At first glance, it doesn't look likely.",
   "id": "62c50c5efe2998b0"
  },
  {
   "metadata": {},
   "cell_type": "markdown",
   "source": "##### f) Estimate the IV regression of weeksm1 on morekids, using samesex as an instrument. How large is the fertility effect on labor supply?\n",
   "id": "3be0a3248a71a149"
  },
  {
   "metadata": {
    "ExecuteTime": {
     "end_time": "2024-12-13T14:27:53.417376Z",
     "start_time": "2024-12-13T14:27:52.670932Z"
    }
   },
   "cell_type": "code",
   "source": [
    "from linearmodels.iv import IV2SLS\n",
    "\n",
    "formula = 'weeksm1 ~ 1 + [morekids ~ samesex]'\n",
    "iv = IV2SLS.from_formula(formula, fertility_df).fit()\n",
    "print(iv)"
   ],
   "id": "9e3139b602225953",
   "outputs": [
    {
     "name": "stdout",
     "output_type": "stream",
     "text": [
      "                          IV-2SLS Estimation Summary                          \n",
      "==============================================================================\n",
      "Dep. Variable:                weeksm1   R-squared:                      0.0139\n",
      "Estimator:                    IV-2SLS   Adj. R-squared:                 0.0139\n",
      "No. Observations:              254654   F-statistic:                    24.534\n",
      "Date:                Fri, Dec 13 2024   P-value (F-stat)                0.0000\n",
      "Time:                        15:27:53   Distribution:                  chi2(1)\n",
      "Cov. Estimator:                robust                                         \n",
      "                                                                              \n",
      "                             Parameter Estimates                              \n",
      "==============================================================================\n",
      "            Parameter  Std. Err.     T-stat    P-value    Lower CI    Upper CI\n",
      "------------------------------------------------------------------------------\n",
      "Intercept      21.421     0.4872     43.963     0.0000      20.466      22.376\n",
      "morekids      -6.3137     1.2747    -4.9532     0.0000     -8.8120     -3.8154\n",
      "==============================================================================\n",
      "\n",
      "Endogenous: morekids\n",
      "Instruments: samesex\n",
      "Robust Covariance (Heteroskedastic)\n",
      "Debiased: False\n"
     ]
    }
   ],
   "execution_count": 6
  },
  {
   "metadata": {},
   "cell_type": "markdown",
   "source": "The coefficient of morekids is -6.314. This means that on average, women with more than two children work 6.314 weeks less than mother with two children. The coefficient is statistically with p-value = 0.",
   "id": "68c15629a56dea1"
  },
  {
   "metadata": {},
   "cell_type": "markdown",
   "source": "##### g) Do the magnitude and significancy of the IV estimation results (the coefficient for morekids) change when you include the variables agem1, black, hispan, and othrace in the regression in part f (treating these variables as exogenous)? Explain why or why not.",
   "id": "5b94d3d19cedaf2c"
  },
  {
   "metadata": {
    "ExecuteTime": {
     "end_time": "2024-12-13T14:27:54.120899Z",
     "start_time": "2024-12-13T14:27:53.443613Z"
    }
   },
   "cell_type": "code",
   "source": [
    "formula = 'weeksm1 ~ 1 + [morekids ~ samesex] + agem1 + black + hispan + othrace'\n",
    "iv = IV2SLS.from_formula(formula, fertility_df).fit()\n",
    "print(iv)"
   ],
   "id": "453f1d8bb1a634e",
   "outputs": [
    {
     "name": "stdout",
     "output_type": "stream",
     "text": [
      "                          IV-2SLS Estimation Summary                          \n",
      "==============================================================================\n",
      "Dep. Variable:                weeksm1   R-squared:                      0.0437\n",
      "Estimator:                    IV-2SLS   Adj. R-squared:                 0.0437\n",
      "No. Observations:              254654   F-statistic:                    6955.0\n",
      "Date:                Fri, Dec 13 2024   P-value (F-stat)                0.0000\n",
      "Time:                        15:27:54   Distribution:                  chi2(5)\n",
      "Cov. Estimator:                robust                                         \n",
      "                                                                              \n",
      "                             Parameter Estimates                              \n",
      "==============================================================================\n",
      "            Parameter  Std. Err.     T-stat    P-value    Lower CI    Upper CI\n",
      "------------------------------------------------------------------------------\n",
      "Intercept     -4.7919     0.3898    -12.294     0.0000     -5.5559     -4.0279\n",
      "agem1          0.8316     0.0226     36.730     0.0000      0.7872      0.8760\n",
      "black          11.623     0.2318     50.145     0.0000      11.169      12.078\n",
      "hispan         0.4042     0.2608     1.5498     0.1212     -0.1070      0.9153\n",
      "othrace        2.1310     0.2110     10.100     0.0000      1.7174      2.5445\n",
      "morekids      -5.8211     1.2464    -4.6703     0.0000     -8.2639     -3.3782\n",
      "==============================================================================\n",
      "\n",
      "Endogenous: morekids\n",
      "Instruments: samesex\n",
      "Robust Covariance (Heteroskedastic)\n",
      "Debiased: False\n"
     ]
    }
   ],
   "execution_count": 7
  },
  {
   "metadata": {},
   "cell_type": "markdown",
   "source": "The coefficient of morekids is -5.82 and is still statistically significant with p-value = 0.  The magnitude of the coefficient lowered slightly compared to the previous model. This can be explained by the fact that the exogenous variables included in the model are maybe correlated with the endogenous variable morekids through the instrumental variable. Despite the IV regression should account for the endogeneity, and adress the omitted variable bias, adding new information (exogenous variables) refines this adjustment. The coefficient change might also not be significant.",
   "id": "a0e1c00819f2aba3"
  },
  {
   "metadata": {},
   "cell_type": "markdown",
   "source": "## Exercise 2",
   "id": "fb656eeb892b666a"
  },
  {
   "metadata": {},
   "cell_type": "markdown",
   "source": [
    "In this exercise, you will work with a simplified version of\n",
    "**SchoolingReturns** dataset from the U.S. National Longitudinal Survey\n",
    "of Young Men (NLSYM) conducted in 1976, with some variables dating back\n",
    "to earlier years. The dataset captures information on individuals’\n",
    "wages, education levels, labor market experience, ethnicity, and other\n",
    "demographic factors (we limited dataset to only necessary variables for\n",
    "the exercise). This dataset has been utilized in studies examining the\n",
    "causal relationship between education and earnings, notably by David\n",
    "Card (1995), who employed geographical proximity to colleges as an\n",
    "instrumental variable to estimate the returns to schooling. Both Excel\n",
    "and Stata versions of the dataset are available on Moodle (use the one\n",
    "you are more comfortable with).\n",
    "\n",
    "The variable description is as follows:\n",
    "\n",
    "-   *educ: Education level*\n",
    "\n",
    "-   *momeduc: Mothers’ education level*\n",
    "\n",
    "-   *dadeduc: Dads’ education level*\n",
    "\n",
    "-   *lwage: Log wage*\n",
    "\n",
    "-   *smsa: Indicator for whether an individual resided in an urban area\n",
    "    (as defined by the U.S. Census Bureau) at the time of the survey.\n",
    "    The value is one for individuals living in an urban/metropolitan\n",
    "    area and zero for individuals living in a non-urban/rural area*\n",
    "\n",
    "-   *black dummy: Indicator for black individuals*\n",
    "\n",
    "-   *south dummy: Indicates whether an individual resided in the\n",
    "    Southern United States at the time of the survey. We use it as a\n",
    "    control to capture regional differences in labor markets, education\n",
    "    access, and wage structures*\n",
    "\n",
    "-   *nearc4 dummy: Indicator for whether an individual lived near a\n",
    "    four-year college during their youth*\n",
    "\n",
    "-   *age: individual age*\n",
    "\n",
    "-   *age squared: individual age squared*\n",
    "\n",
    "In all models, specify individuals and their parent education as a\n",
    "continuous variable not a categorical variable."
   ],
   "id": "675c9232978362e3"
  },
  {
   "metadata": {},
   "cell_type": "markdown",
   "source": "**Load the data here**",
   "id": "f62d3663e596e4eb"
  },
  {
   "metadata": {
    "ExecuteTime": {
     "end_time": "2024-12-13T14:27:54.167944Z",
     "start_time": "2024-12-13T14:27:54.144482Z"
    }
   },
   "cell_type": "code",
   "source": [
    "school_returns_df = pd.read_stata('ReturnSchooling.dta')\n",
    "school_returns_df.head()"
   ],
   "id": "1e07194e92337d30",
   "outputs": [
    {
     "data": {
      "text/plain": [
       "   educ  age  dadeduc  momeduc     lwage  smsa  black_dummy  south_dummy  \\\n",
       "0    12   27      8.0      8.0  6.175867     1            0            0   \n",
       "1    12   34     14.0     12.0  6.580639     1            0            0   \n",
       "2    11   27     11.0     12.0  5.521461     1            0            0   \n",
       "3    12   34      8.0      7.0  6.591674     1            0            0   \n",
       "4    12   26      9.0     12.0  6.214608     1            0            0   \n",
       "\n",
       "   nearc4_dummy  age_squared  \n",
       "0             0        729.0  \n",
       "1             0       1156.0  \n",
       "2             1        729.0  \n",
       "3             1       1156.0  \n",
       "4             1        676.0  "
      ],
      "text/html": [
       "<div>\n",
       "<style scoped>\n",
       "    .dataframe tbody tr th:only-of-type {\n",
       "        vertical-align: middle;\n",
       "    }\n",
       "\n",
       "    .dataframe tbody tr th {\n",
       "        vertical-align: top;\n",
       "    }\n",
       "\n",
       "    .dataframe thead th {\n",
       "        text-align: right;\n",
       "    }\n",
       "</style>\n",
       "<table border=\"1\" class=\"dataframe\">\n",
       "  <thead>\n",
       "    <tr style=\"text-align: right;\">\n",
       "      <th></th>\n",
       "      <th>educ</th>\n",
       "      <th>age</th>\n",
       "      <th>dadeduc</th>\n",
       "      <th>momeduc</th>\n",
       "      <th>lwage</th>\n",
       "      <th>smsa</th>\n",
       "      <th>black_dummy</th>\n",
       "      <th>south_dummy</th>\n",
       "      <th>nearc4_dummy</th>\n",
       "      <th>age_squared</th>\n",
       "    </tr>\n",
       "  </thead>\n",
       "  <tbody>\n",
       "    <tr>\n",
       "      <th>0</th>\n",
       "      <td>12</td>\n",
       "      <td>27</td>\n",
       "      <td>8.0</td>\n",
       "      <td>8.0</td>\n",
       "      <td>6.175867</td>\n",
       "      <td>1</td>\n",
       "      <td>0</td>\n",
       "      <td>0</td>\n",
       "      <td>0</td>\n",
       "      <td>729.0</td>\n",
       "    </tr>\n",
       "    <tr>\n",
       "      <th>1</th>\n",
       "      <td>12</td>\n",
       "      <td>34</td>\n",
       "      <td>14.0</td>\n",
       "      <td>12.0</td>\n",
       "      <td>6.580639</td>\n",
       "      <td>1</td>\n",
       "      <td>0</td>\n",
       "      <td>0</td>\n",
       "      <td>0</td>\n",
       "      <td>1156.0</td>\n",
       "    </tr>\n",
       "    <tr>\n",
       "      <th>2</th>\n",
       "      <td>11</td>\n",
       "      <td>27</td>\n",
       "      <td>11.0</td>\n",
       "      <td>12.0</td>\n",
       "      <td>5.521461</td>\n",
       "      <td>1</td>\n",
       "      <td>0</td>\n",
       "      <td>0</td>\n",
       "      <td>1</td>\n",
       "      <td>729.0</td>\n",
       "    </tr>\n",
       "    <tr>\n",
       "      <th>3</th>\n",
       "      <td>12</td>\n",
       "      <td>34</td>\n",
       "      <td>8.0</td>\n",
       "      <td>7.0</td>\n",
       "      <td>6.591674</td>\n",
       "      <td>1</td>\n",
       "      <td>0</td>\n",
       "      <td>0</td>\n",
       "      <td>1</td>\n",
       "      <td>1156.0</td>\n",
       "    </tr>\n",
       "    <tr>\n",
       "      <th>4</th>\n",
       "      <td>12</td>\n",
       "      <td>26</td>\n",
       "      <td>9.0</td>\n",
       "      <td>12.0</td>\n",
       "      <td>6.214608</td>\n",
       "      <td>1</td>\n",
       "      <td>0</td>\n",
       "      <td>0</td>\n",
       "      <td>1</td>\n",
       "      <td>676.0</td>\n",
       "    </tr>\n",
       "  </tbody>\n",
       "</table>\n",
       "</div>"
      ]
     },
     "execution_count": 8,
     "metadata": {},
     "output_type": "execute_result"
    }
   ],
   "execution_count": 8
  },
  {
   "metadata": {},
   "cell_type": "markdown",
   "source": [
    "\n",
    "##### a) Run an OLS regression using lwage as the dependent variable and educ, black dummy, south dummy, age, age squared, and smsa as independent variables. Interpret the education level significancy and the estimated coefficient.\n"
   ],
   "id": "427c2e6c699bacc2"
  },
  {
   "metadata": {
    "ExecuteTime": {
     "end_time": "2024-12-13T14:27:54.277042Z",
     "start_time": "2024-12-13T14:27:54.256117Z"
    }
   },
   "cell_type": "code",
   "source": [
    "X = school_returns_df[['educ', 'black_dummy', 'south_dummy', 'age', 'age_squared', 'smsa']]\n",
    "y = school_returns_df['lwage']\n",
    "X = sm.add_constant(X)\n",
    "model = sm.OLS(y, X).fit()\n",
    "print(model.summary())"
   ],
   "id": "ad0fdebe860f9c2e",
   "outputs": [
    {
     "name": "stdout",
     "output_type": "stream",
     "text": [
      "                            OLS Regression Results                            \n",
      "==============================================================================\n",
      "Dep. Variable:                  lwage   R-squared:                       0.211\n",
      "Model:                            OLS   Adj. R-squared:                  0.208\n",
      "Method:                 Least Squares   F-statistic:                     90.04\n",
      "Date:                Fri, 13 Dec 2024   Prob (F-statistic):          2.36e-100\n",
      "Time:                        15:27:54   Log-Likelihood:                -869.61\n",
      "No. Observations:                2033   AIC:                             1753.\n",
      "Df Residuals:                    2026   BIC:                             1793.\n",
      "Df Model:                           6                                         \n",
      "Covariance Type:            nonrobust                                         \n",
      "===============================================================================\n",
      "                  coef    std err          t      P>|t|      [0.025      0.975]\n",
      "-------------------------------------------------------------------------------\n",
      "const           3.5965      0.829      4.337      0.000       1.970       5.223\n",
      "educ            0.0305      0.004      8.245      0.000       0.023       0.038\n",
      "black_dummy    -0.1722      0.025     -6.928      0.000      -0.221      -0.123\n",
      "south_dummy    -0.0871      0.018     -4.782      0.000      -0.123      -0.051\n",
      "age             0.1152      0.058      1.995      0.046       0.002       0.228\n",
      "age_squared    -0.0012      0.001     -1.256      0.209      -0.003       0.001\n",
      "smsa            0.1568      0.019      8.189      0.000       0.119       0.194\n",
      "==============================================================================\n",
      "Omnibus:                       49.857   Durbin-Watson:                   1.900\n",
      "Prob(Omnibus):                  0.000   Jarque-Bera (JB):               60.781\n",
      "Skew:                          -0.313   Prob(JB):                     6.33e-14\n",
      "Kurtosis:                       3.571   Cond. No.                     8.40e+04\n",
      "==============================================================================\n",
      "\n",
      "Notes:\n",
      "[1] Standard Errors assume that the covariance matrix of the errors is correctly specified.\n",
      "[2] The condition number is large, 8.4e+04. This might indicate that there are\n",
      "strong multicollinearity or other numerical problems.\n"
     ]
    }
   ],
   "execution_count": 9
  },
  {
   "metadata": {},
   "cell_type": "markdown",
   "source": "The coefficient of educ is 0.0305. This means that a one-year increase in education level leads to a 3.05% increase in wage. The coefficient is statistically significant with p-value = 0.",
   "id": "ab48413c3ccae7c2"
  },
  {
   "metadata": {},
   "cell_type": "markdown",
   "source": [
    "\n",
    "\n",
    "\n",
    "We know that the estimated effect of schooling on future wage can be endogenous. One example is ‘ability bias’ (see Griliches, 1977). Suppose that some individuals have unobserved characteristics (ability) that enable them to get higher earnings. If these individuals also have above-average schooling levels, this implies a positive correlation between schooling and error term and an OLS estimator that is upward biased. Another reason for endogeneity is the existence of measurement error in the schooling measure which leads to downward bias in the OLS estimator. Therefore, we decide to implement IV estimation to alleviate the potential bias."
   ],
   "id": "118b6cc0cb3ecd7f"
  },
  {
   "metadata": {},
   "cell_type": "markdown",
   "source": "##### b) Implement TSLS using nearc4 dummy as instrument for educ (Do not perform this manually. Use the packages!). Put the same exogenous variables as part a. Compare the estimated coefficient and standard error for educ of this model with part a. Specifically, is the OLS regression upwardly or downwardly biased? which model suggests higher standard error and why?\n",
   "id": "502b0dbe6ed4c6b9"
  },
  {
   "metadata": {
    "ExecuteTime": {
     "end_time": "2024-12-13T14:27:54.426528Z",
     "start_time": "2024-12-13T14:27:54.365835Z"
    }
   },
   "cell_type": "code",
   "source": [
    "formula = 'lwage ~ 1 + [educ ~ nearc4_dummy] + black_dummy + south_dummy + age + age_squared + smsa'\n",
    "iv = IV2SLS.from_formula(formula, school_returns_df).fit()\n",
    "print(iv)"
   ],
   "id": "14d946fc7a548afd",
   "outputs": [
    {
     "name": "stdout",
     "output_type": "stream",
     "text": [
      "                          IV-2SLS Estimation Summary                          \n",
      "==============================================================================\n",
      "Dep. Variable:                  lwage   R-squared:                      0.1760\n",
      "Estimator:                    IV-2SLS   Adj. R-squared:                 0.1735\n",
      "No. Observations:                2033   F-statistic:                    495.79\n",
      "Date:                Fri, Dec 13 2024   P-value (F-stat)                0.0000\n",
      "Time:                        15:27:54   Distribution:                  chi2(6)\n",
      "Cov. Estimator:                robust                                         \n",
      "                                                                              \n",
      "                              Parameter Estimates                              \n",
      "===============================================================================\n",
      "             Parameter  Std. Err.     T-stat    P-value    Lower CI    Upper CI\n",
      "-------------------------------------------------------------------------------\n",
      "Intercept       3.5186     0.8431     4.1734     0.0000      1.8661      5.1711\n",
      "black_dummy    -0.1331     0.0660    -2.0156     0.0438     -0.2626     -0.0037\n",
      "south_dummy    -0.0855     0.0190    -4.4924     0.0000     -0.1228     -0.0482\n",
      "age             0.0875     0.0728     1.2022     0.2293     -0.0552      0.2302\n",
      "age_squared    -0.0008     0.0012    -0.6227     0.5335     -0.0032      0.0017\n",
      "smsa            0.1393     0.0336     4.1413     0.0000      0.0734      0.2053\n",
      "educ            0.0653     0.0554     1.1790     0.2384     -0.0433      0.1740\n",
      "===============================================================================\n",
      "\n",
      "Endogenous: educ\n",
      "Instruments: nearc4_dummy\n",
      "Robust Covariance (Heteroskedastic)\n",
      "Debiased: False\n"
     ]
    }
   ],
   "execution_count": 10
  },
  {
   "metadata": {},
   "cell_type": "markdown",
   "source": "The coefficient of educ is 0.0653 with std. Error 0.0554 and p-value = 0.2384. The standard error of educ in the IV model is way higher than in the OLS model, and the coefficient is not statistically significant with p-value > 0.05. If we consider the given coefficient despite its' probability to be null, the OLS regression is downwardly biased, as the IV model suggests a higher coefficient. Otherwise, we can consider the coefficient to be 0 and the OLS regression to be upwardly biased. The IV model has higher standard error because the IV method accounts for endogeneity by using instruments to predict the endogenous variable, which introduces additional variability. This additional uncertainty about the instrument's validity and its correlation with the endogenous variable makes the IV estimates less precise than OLS estimates. The large value also suggest that the instrument is weak.",
   "id": "9edc290ce52d883b"
  },
  {
   "metadata": {},
   "cell_type": "markdown",
   "source": "##### c) Now implement TSLS again, using momeduc and dadeduc as instruments for educ and report the results.",
   "id": "152751a8c30c1b45"
  },
  {
   "metadata": {
    "ExecuteTime": {
     "end_time": "2024-12-13T14:27:54.574096Z",
     "start_time": "2024-12-13T14:27:54.540538Z"
    }
   },
   "cell_type": "code",
   "source": [
    "formula = 'lwage ~ 1 + [educ ~ momeduc + dadeduc] + black_dummy + south_dummy + age + age_squared + smsa'\n",
    "iv = IV2SLS.from_formula(formula, school_returns_df).fit()\n",
    "print(iv)"
   ],
   "id": "bd329a120c9ea3f9",
   "outputs": [
    {
     "name": "stdout",
     "output_type": "stream",
     "text": [
      "                          IV-2SLS Estimation Summary                          \n",
      "==============================================================================\n",
      "Dep. Variable:                  lwage   R-squared:                      0.2086\n",
      "Estimator:                    IV-2SLS   Adj. R-squared:                 0.2062\n",
      "No. Observations:                2033   F-statistic:                    523.92\n",
      "Date:                Fri, Dec 13 2024   P-value (F-stat)                0.0000\n",
      "Time:                        15:27:54   Distribution:                  chi2(6)\n",
      "Cov. Estimator:                robust                                         \n",
      "                                                                              \n",
      "                              Parameter Estimates                              \n",
      "===============================================================================\n",
      "             Parameter  Std. Err.     T-stat    P-value    Lower CI    Upper CI\n",
      "-------------------------------------------------------------------------------\n",
      "Intercept       3.5781     0.8189     4.3693     0.0000      1.9730      5.1831\n",
      "black_dummy    -0.1630     0.0271    -6.0096     0.0000     -0.2161     -0.1098\n",
      "south_dummy    -0.0867     0.0186    -4.6669     0.0000     -0.1232     -0.0503\n",
      "age             0.1087     0.0577     1.8848     0.0595     -0.0043      0.2217\n",
      "age_squared    -0.0011     0.0010    -1.1471     0.2514     -0.0031      0.0008\n",
      "smsa            0.1526     0.0195     7.8243     0.0000      0.1144      0.1909\n",
      "educ            0.0387     0.0106     3.6429     0.0003      0.0179      0.0596\n",
      "===============================================================================\n",
      "\n",
      "Endogenous: educ\n",
      "Instruments: momeduc, dadeduc\n",
      "Robust Covariance (Heteroskedastic)\n",
      "Debiased: False\n"
     ]
    }
   ],
   "execution_count": 11
  },
  {
   "metadata": {},
   "cell_type": "markdown",
   "source": "The coefficient of educ is 0.0387 with std. Error 0.0106 and p-value = 0.0003.",
   "id": "f4fd1b1aa177dac3"
  },
  {
   "metadata": {},
   "cell_type": "markdown",
   "source": "Now we want to compare model in part b and c.",
   "id": "a9daa13765ad59d8"
  },
  {
   "metadata": {},
   "cell_type": "markdown",
   "source": [
    "\n",
    "##### d) Which model has weaker instrument(s), model b or c? Justify your answer using appropriate statistics?\n"
   ],
   "id": "c612b8b42eeffd86"
  },
  {
   "metadata": {},
   "cell_type": "markdown",
   "source": "We can check the strength of the instrument by calculating the F-statistic of the first stage regression. If the F-statistic is less than 10, then the instrument is weak. We can also check the first stage regression summary to see if the coefficient of the instrument is statistically significant.",
   "id": "dba14b875de7d1d1"
  },
  {
   "metadata": {
    "ExecuteTime": {
     "end_time": "2024-12-13T14:27:54.651382Z",
     "start_time": "2024-12-13T14:27:54.625030Z"
    }
   },
   "cell_type": "code",
   "source": [
    "formula = 'educ ~ 1 + nearc4_dummy'\n",
    "iv_b = IV2SLS.from_formula(formula, school_returns_df).fit()\n",
    "print(iv_b)"
   ],
   "id": "5dc1497e6c147f48",
   "outputs": [
    {
     "name": "stdout",
     "output_type": "stream",
     "text": [
      "                            OLS Estimation Summary                            \n",
      "==============================================================================\n",
      "Dep. Variable:                   educ   R-squared:                      0.0087\n",
      "Estimator:                        OLS   Adj. R-squared:                 0.0083\n",
      "No. Observations:                2033   F-statistic:                    18.759\n",
      "Date:                Fri, Dec 13 2024   P-value (F-stat)                0.0000\n",
      "Time:                        15:27:54   Distribution:                  chi2(1)\n",
      "Cov. Estimator:                robust                                         \n",
      "                                                                              \n",
      "                              Parameter Estimates                               \n",
      "================================================================================\n",
      "              Parameter  Std. Err.     T-stat    P-value    Lower CI    Upper CI\n",
      "--------------------------------------------------------------------------------\n",
      "Intercept        13.598     0.0894     152.17     0.0000      13.423      13.773\n",
      "nearc4_dummy     0.4677     0.1080     4.3312     0.0000      0.2561      0.6794\n",
      "================================================================================\n"
     ]
    }
   ],
   "execution_count": 12
  },
  {
   "metadata": {
    "ExecuteTime": {
     "end_time": "2024-12-13T14:27:54.686249Z",
     "start_time": "2024-12-13T14:27:54.651382Z"
    }
   },
   "cell_type": "code",
   "source": [
    "formula = 'educ ~ 1 + momeduc + dadeduc'\n",
    "iv_c = IV2SLS.from_formula(formula, school_returns_df).fit()\n",
    "print(iv_c)"
   ],
   "id": "14c149707e3ebea7",
   "outputs": [
    {
     "name": "stdout",
     "output_type": "stream",
     "text": [
      "                            OLS Estimation Summary                            \n",
      "==============================================================================\n",
      "Dep. Variable:                   educ   R-squared:                      0.1658\n",
      "Estimator:                        OLS   Adj. R-squared:                 0.1650\n",
      "No. Observations:                2033   F-statistic:                    441.69\n",
      "Date:                Fri, Dec 13 2024   P-value (F-stat)                0.0000\n",
      "Time:                        15:27:54   Distribution:                  chi2(2)\n",
      "Cov. Estimator:                robust                                         \n",
      "                                                                              \n",
      "                             Parameter Estimates                              \n",
      "==============================================================================\n",
      "            Parameter  Std. Err.     T-stat    P-value    Lower CI    Upper CI\n",
      "------------------------------------------------------------------------------\n",
      "Intercept      10.083     0.1987     50.755     0.0000      9.6934      10.472\n",
      "momeduc        0.1666     0.0208     8.0000     0.0000      0.1258      0.2074\n",
      "dadeduc        0.1952     0.0179     10.926     0.0000      0.1602      0.2303\n",
      "==============================================================================\n"
     ]
    }
   ],
   "execution_count": 13
  },
  {
   "metadata": {
    "ExecuteTime": {
     "end_time": "2024-12-13T14:27:54.721852Z",
     "start_time": "2024-12-13T14:27:54.715798Z"
    }
   },
   "cell_type": "code",
   "source": [
    "print(f\"F-statistic of model b: {iv_b.f_statistic.stat}\")\n",
    "print(f\"F-statistic of model c: {iv_c.f_statistic.stat}\")"
   ],
   "id": "ba5bfc9e0e1f377e",
   "outputs": [
    {
     "name": "stdout",
     "output_type": "stream",
     "text": [
      "F-statistic of model b: 18.759033936857932\n",
      "F-statistic of model c: 441.6884302890728\n"
     ]
    }
   ],
   "execution_count": 14
  },
  {
   "metadata": {},
   "cell_type": "markdown",
   "source": "The F-stat of model c is way higher than model b, so model b has weaker instruments. We could expect this results from the standard error of educ in model b being higher than in model c.",
   "id": "65cf70346eea40cb"
  },
  {
   "metadata": {},
   "cell_type": "markdown",
   "source": "##### e) Compare standard error of educ in model b and c. Why are they very different?",
   "id": "e7bd0fdd8e10fd64"
  },
  {
   "metadata": {},
   "cell_type": "markdown",
   "source": "The standard error of educ in model c is 0.0106, while in model b is 0.0554. The standard error of educ in model b is higher than in model c because the instrument in model c is stronger than in model b. The stronger the instrument, the more precise the estimates are, and the lower the standard error.",
   "id": "e573dc6af28243f4"
  },
  {
   "metadata": {},
   "cell_type": "markdown",
   "source": "##### f) Test the overidentifying restriction using Hansen J-test for model c (use the steps discussed in the exercise sessions). Is it significant at the 1% level? What does significancy or insignificancy of the J-statistic mean?\n",
   "id": "11e28318b55c5d57"
  },
  {
   "metadata": {
    "ExecuteTime": {
     "end_time": "2024-12-13T15:03:42.040731Z",
     "start_time": "2024-12-13T15:03:42.007455Z"
    }
   },
   "cell_type": "code",
   "source": [
    "from scipy.stats import chi2\n",
    "\n",
    "num_instruments = 2\n",
    "num_endog = 1\n",
    "degrees_of_freedom = num_instruments - num_endog\n",
    "n = len(school_returns_df)\n",
    "\n",
    "# Overidentifying restrictions test (J-statistic)\n",
    "# Step 1: Residual regression\n",
    "school_returns_df['residuals'] = iv.resids\n",
    "residuals_formula = 'residuals ~ 1 + momeduc + dadeduc + black_dummy + south_dummy + age + age_squared + smsa'\n",
    "residuals_model = sm.OLS.from_formula(residuals_formula, data=school_returns_df).fit()\n",
    "\n",
    "# Step 2: Compute the J-statistic\n",
    "\n",
    "# Method 1: Using the Wald test\n",
    "\n",
    "# We then test whether the coefficients on the instruments are = 0\n",
    "hypotheses = ['momeduc = 0', 'dadeduc = 0']\n",
    "test_result = residuals_model.wald_test(hypotheses)\n",
    "j_statistic = test_result.statistic[0][0]\n",
    "\n",
    "p_value = chi2.sf(j_statistic, df=degrees_of_freedom)\n",
    "\n",
    "print(f\"Wald test J-statistic: {j_statistic}\")\n",
    "print(f\"Wald test p-value: {p_value}\")\n",
    "\n",
    "# Method 2: Using the formula\n",
    "\n",
    "j_statistic = n * residuals_model.rsquared\n",
    "\n",
    "p_value = chi2.sf(j_statistic, df=degrees_of_freedom)\n",
    "\n",
    "print(f\"Formula J-statistic: {j_statistic}\")\n",
    "print(f\"Formula p-value: {p_value}\")"
   ],
   "id": "8630c1419720a7e7",
   "outputs": [
    {
     "name": "stdout",
     "output_type": "stream",
     "text": [
      "Wald test J-statistic: 2.8801246013599444\n",
      "Wald test p-value: 0.0896790821721795\n",
      "Formula J-statistic: 5.7666022533825005\n",
      "Formula p-value: 0.016333585041913037\n"
     ]
    }
   ],
   "execution_count": 31
  },
  {
   "metadata": {},
   "cell_type": "markdown",
   "source": "I will consider the p_value from Wald test such as in the exercises. The p_value is 0.09 which is greater than 0.01, so it is not significant and we fail to reject the null hypothesis. Significancy means that we reject the null hypothesis that the instruments are valid, thus at least one instrument is invalid and correlated with error term. Insignificancy means that we fail to reject the null hypothesis, so the instruments are valid and uncorrelated with the error term. It is the case here and our instruments and model are valid.",
   "id": "95175af84f598cde"
  },
  {
   "metadata": {},
   "cell_type": "markdown",
   "source": [
    "\n",
    "\n",
    "\n",
    "##### g) Which model do you prefer? b or c? Explain based on what you have found in previous steps.\n"
   ],
   "id": "c5260569e6ab1274"
  },
  {
   "metadata": {},
   "cell_type": "markdown",
   "source": "I would prefer model c as we have seen that it has stronger instruments, lower standard error and its' overidentifying restriction test is not significant, which meant that the instruments are valid and uncorrelated with the error term, so the IV estimates are consistent and unbiased. The model c is valid and better than b.",
   "id": "1922bfd12bf99968"
  }
 ],
 "metadata": {
  "kernelspec": {
   "display_name": "Python 3",
   "language": "python",
   "name": "python3"
  },
  "language_info": {
   "codemirror_mode": {
    "name": "ipython",
    "version": 2
   },
   "file_extension": ".py",
   "mimetype": "text/x-python",
   "name": "python",
   "nbconvert_exporter": "python",
   "pygments_lexer": "ipython2",
   "version": "2.7.6"
  }
 },
 "nbformat": 4,
 "nbformat_minor": 5
}
